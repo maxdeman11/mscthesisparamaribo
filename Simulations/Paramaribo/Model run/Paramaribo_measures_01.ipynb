{
 "cells": [
  {
   "cell_type": "code",
   "execution_count": 12,
   "metadata": {
    "scrolled": true
   },
   "outputs": [
    {
     "name": "stdout",
     "output_type": "stream",
     "text": [
      "Total number of neighborhoods to run:  3\n",
      "\n",
      "\n",
      "Currently running Neighbourhood 1 - Base run\n"
     ]
    },
    {
     "name": "stderr",
     "output_type": "stream",
     "text": [
      "C:\\Users\\rooze_dn\\Documents\\UWBM-input\\REACHOUT\\Model run\\uwbm_functions.py:1099: RuntimeWarning: invalid value encountered in scalar divide\n",
      "  e_meas = sum_evap_meas * dict_param[\"tot_area\"] / dict_param[\"tot_meas_area\"]\n",
      "C:\\Users\\rooze_dn\\Documents\\UWBM-input\\REACHOUT\\Model run\\uwbm_functions.py:1100: RuntimeWarning: invalid value encountered in scalar divide\n",
      "  ds_meas = sum_ds_meas * dict_param[\"tot_area\"] / dict_param[\"tot_meas_area\"]\n"
     ]
    },
    {
     "name": "stdout",
     "output_type": "stream",
     "text": [
      "Currently running Neighbourhood 1 - Urban wetland\n",
      "Elapsed: 15.56s\n"
     ]
    },
    {
     "name": "stderr",
     "output_type": "stream",
     "text": [
      "C:\\Users\\rooze_dn\\AppData\\Local\\anaconda3\\Lib\\site-packages\\numpy\\core\\fromnumeric.py:3464: RuntimeWarning: Mean of empty slice.\n",
      "  return _methods._mean(a, axis=axis, dtype=dtype,\n",
      "C:\\Users\\rooze_dn\\AppData\\Local\\anaconda3\\Lib\\site-packages\\numpy\\core\\_methods.py:192: RuntimeWarning: invalid value encountered in scalar divide\n",
      "  ret = ret.dtype.type(ret / rcount)\n"
     ]
    },
    {
     "name": "stdout",
     "output_type": "stream",
     "text": [
      "5.0 minutes remaining\n",
      "Currently running Neighbourhood 1 - Bioswale\n",
      "Elapsed: 15.56s\n"
     ]
    },
    {
     "name": "stderr",
     "output_type": "stream",
     "text": [
      "C:\\Users\\rooze_dn\\AppData\\Local\\anaconda3\\Lib\\site-packages\\numpy\\core\\fromnumeric.py:3464: RuntimeWarning: Mean of empty slice.\n",
      "  return _methods._mean(a, axis=axis, dtype=dtype,\n",
      "C:\\Users\\rooze_dn\\AppData\\Local\\anaconda3\\Lib\\site-packages\\numpy\\core\\_methods.py:192: RuntimeWarning: invalid value encountered in scalar divide\n",
      "  ret = ret.dtype.type(ret / rcount)\n"
     ]
    },
    {
     "name": "stdout",
     "output_type": "stream",
     "text": [
      "4.5 minutes remaining\n",
      "Currently running Neighbourhood 1 - Deep groundwater infiltration\n",
      "Elapsed: 14.86s\n"
     ]
    },
    {
     "name": "stderr",
     "output_type": "stream",
     "text": [
      "C:\\Users\\rooze_dn\\AppData\\Local\\anaconda3\\Lib\\site-packages\\numpy\\core\\fromnumeric.py:3464: RuntimeWarning: Mean of empty slice.\n",
      "  return _methods._mean(a, axis=axis, dtype=dtype,\n",
      "C:\\Users\\rooze_dn\\AppData\\Local\\anaconda3\\Lib\\site-packages\\numpy\\core\\_methods.py:192: RuntimeWarning: invalid value encountered in scalar divide\n",
      "  ret = ret.dtype.type(ret / rcount)\n"
     ]
    },
    {
     "name": "stdout",
     "output_type": "stream",
     "text": [
      "4.1 minutes remaining\n",
      "Currently running Neighbourhood 1 - Ditches\n",
      "Elapsed: 15.18s\n"
     ]
    },
    {
     "name": "stderr",
     "output_type": "stream",
     "text": [
      "C:\\Users\\rooze_dn\\AppData\\Local\\anaconda3\\Lib\\site-packages\\numpy\\core\\fromnumeric.py:3464: RuntimeWarning: Mean of empty slice.\n",
      "  return _methods._mean(a, axis=axis, dtype=dtype,\n",
      "C:\\Users\\rooze_dn\\AppData\\Local\\anaconda3\\Lib\\site-packages\\numpy\\core\\_methods.py:192: RuntimeWarning: invalid value encountered in scalar divide\n",
      "  ret = ret.dtype.type(ret / rcount)\n"
     ]
    },
    {
     "name": "stdout",
     "output_type": "stream",
     "text": [
      "3.8 minutes remaining\n",
      "Currently running Neighbourhood 1 - Intensive green roofs\n",
      "Elapsed: 14.41s\n"
     ]
    },
    {
     "name": "stderr",
     "output_type": "stream",
     "text": [
      "C:\\Users\\rooze_dn\\AppData\\Local\\anaconda3\\Lib\\site-packages\\numpy\\core\\fromnumeric.py:3464: RuntimeWarning: Mean of empty slice.\n",
      "  return _methods._mean(a, axis=axis, dtype=dtype,\n",
      "C:\\Users\\rooze_dn\\AppData\\Local\\anaconda3\\Lib\\site-packages\\numpy\\core\\_methods.py:192: RuntimeWarning: invalid value encountered in scalar divide\n",
      "  ret = ret.dtype.type(ret / rcount)\n"
     ]
    },
    {
     "name": "stdout",
     "output_type": "stream",
     "text": [
      "3.5 minutes remaining\n",
      "Currently running Neighbourhood 1 - Adding trees to streetscape\n"
     ]
    },
    {
     "name": "stderr",
     "output_type": "stream",
     "text": [
      "C:\\Users\\rooze_dn\\Documents\\UWBM-input\\REACHOUT\\Model run\\uwbm_functions.py:1099: RuntimeWarning: invalid value encountered in scalar divide\n",
      "  e_meas = sum_evap_meas * dict_param[\"tot_area\"] / dict_param[\"tot_meas_area\"]\n",
      "C:\\Users\\rooze_dn\\Documents\\UWBM-input\\REACHOUT\\Model run\\uwbm_functions.py:1100: RuntimeWarning: invalid value encountered in scalar divide\n",
      "  ds_meas = sum_ds_meas * dict_param[\"tot_area\"] / dict_param[\"tot_meas_area\"]\n",
      "C:\\Users\\rooze_dn\\AppData\\Local\\anaconda3\\Lib\\site-packages\\numpy\\core\\fromnumeric.py:3464: RuntimeWarning: Mean of empty slice.\n",
      "  return _methods._mean(a, axis=axis, dtype=dtype,\n",
      "C:\\Users\\rooze_dn\\AppData\\Local\\anaconda3\\Lib\\site-packages\\numpy\\core\\_methods.py:192: RuntimeWarning: invalid value encountered in scalar divide\n",
      "  ret = ret.dtype.type(ret / rcount)\n"
     ]
    },
    {
     "name": "stdout",
     "output_type": "stream",
     "text": [
      "\n",
      "\n",
      "Currently running Neighbourhood 2 - Base run\n"
     ]
    },
    {
     "name": "stderr",
     "output_type": "stream",
     "text": [
      "C:\\Users\\rooze_dn\\Documents\\UWBM-input\\REACHOUT\\Model run\\uwbm_functions.py:1099: RuntimeWarning: invalid value encountered in scalar divide\n",
      "  e_meas = sum_evap_meas * dict_param[\"tot_area\"] / dict_param[\"tot_meas_area\"]\n",
      "C:\\Users\\rooze_dn\\Documents\\UWBM-input\\REACHOUT\\Model run\\uwbm_functions.py:1100: RuntimeWarning: invalid value encountered in scalar divide\n",
      "  ds_meas = sum_ds_meas * dict_param[\"tot_area\"] / dict_param[\"tot_meas_area\"]\n"
     ]
    },
    {
     "name": "stdout",
     "output_type": "stream",
     "text": [
      "Currently running Neighbourhood 2 - Urban wetland\n",
      "Elapsed: 13.72s\n"
     ]
    },
    {
     "name": "stderr",
     "output_type": "stream",
     "text": [
      "C:\\Users\\rooze_dn\\AppData\\Local\\anaconda3\\Lib\\site-packages\\numpy\\core\\fromnumeric.py:3464: RuntimeWarning: Mean of empty slice.\n",
      "  return _methods._mean(a, axis=axis, dtype=dtype,\n",
      "C:\\Users\\rooze_dn\\AppData\\Local\\anaconda3\\Lib\\site-packages\\numpy\\core\\_methods.py:192: RuntimeWarning: invalid value encountered in scalar divide\n",
      "  ret = ret.dtype.type(ret / rcount)\n"
     ]
    },
    {
     "name": "stdout",
     "output_type": "stream",
     "text": [
      "3.2 minutes remaining\n",
      "Currently running Neighbourhood 2 - Bioswale\n",
      "Elapsed: 13.78s\n"
     ]
    },
    {
     "name": "stderr",
     "output_type": "stream",
     "text": [
      "C:\\Users\\rooze_dn\\AppData\\Local\\anaconda3\\Lib\\site-packages\\numpy\\core\\fromnumeric.py:3464: RuntimeWarning: Mean of empty slice.\n",
      "  return _methods._mean(a, axis=axis, dtype=dtype,\n",
      "C:\\Users\\rooze_dn\\AppData\\Local\\anaconda3\\Lib\\site-packages\\numpy\\core\\_methods.py:192: RuntimeWarning: invalid value encountered in scalar divide\n",
      "  ret = ret.dtype.type(ret / rcount)\n"
     ]
    },
    {
     "name": "stdout",
     "output_type": "stream",
     "text": [
      "2.9 minutes remaining\n",
      "Currently running Neighbourhood 2 - Deep groundwater infiltration\n",
      "Elapsed: 13.32s\n"
     ]
    },
    {
     "name": "stderr",
     "output_type": "stream",
     "text": [
      "C:\\Users\\rooze_dn\\AppData\\Local\\anaconda3\\Lib\\site-packages\\numpy\\core\\fromnumeric.py:3464: RuntimeWarning: Mean of empty slice.\n",
      "  return _methods._mean(a, axis=axis, dtype=dtype,\n",
      "C:\\Users\\rooze_dn\\AppData\\Local\\anaconda3\\Lib\\site-packages\\numpy\\core\\_methods.py:192: RuntimeWarning: invalid value encountered in scalar divide\n",
      "  ret = ret.dtype.type(ret / rcount)\n"
     ]
    },
    {
     "name": "stdout",
     "output_type": "stream",
     "text": [
      "2.6 minutes remaining\n",
      "Currently running Neighbourhood 2 - Ditches\n",
      "Elapsed: 13.02s\n"
     ]
    },
    {
     "name": "stderr",
     "output_type": "stream",
     "text": [
      "C:\\Users\\rooze_dn\\AppData\\Local\\anaconda3\\Lib\\site-packages\\numpy\\core\\fromnumeric.py:3464: RuntimeWarning: Mean of empty slice.\n",
      "  return _methods._mean(a, axis=axis, dtype=dtype,\n",
      "C:\\Users\\rooze_dn\\AppData\\Local\\anaconda3\\Lib\\site-packages\\numpy\\core\\_methods.py:192: RuntimeWarning: invalid value encountered in scalar divide\n",
      "  ret = ret.dtype.type(ret / rcount)\n"
     ]
    },
    {
     "name": "stdout",
     "output_type": "stream",
     "text": [
      "2.3 minutes remaining\n",
      "Currently running Neighbourhood 2 - Intensive green roofs\n",
      "Elapsed: 12.94s\n"
     ]
    },
    {
     "name": "stderr",
     "output_type": "stream",
     "text": [
      "C:\\Users\\rooze_dn\\AppData\\Local\\anaconda3\\Lib\\site-packages\\numpy\\core\\fromnumeric.py:3464: RuntimeWarning: Mean of empty slice.\n",
      "  return _methods._mean(a, axis=axis, dtype=dtype,\n",
      "C:\\Users\\rooze_dn\\AppData\\Local\\anaconda3\\Lib\\site-packages\\numpy\\core\\_methods.py:192: RuntimeWarning: invalid value encountered in scalar divide\n",
      "  ret = ret.dtype.type(ret / rcount)\n"
     ]
    },
    {
     "name": "stdout",
     "output_type": "stream",
     "text": [
      "2.0 minutes remaining\n",
      "Currently running Neighbourhood 2 - Adding trees to streetscape\n"
     ]
    },
    {
     "name": "stderr",
     "output_type": "stream",
     "text": [
      "C:\\Users\\rooze_dn\\Documents\\UWBM-input\\REACHOUT\\Model run\\uwbm_functions.py:1099: RuntimeWarning: invalid value encountered in scalar divide\n",
      "  e_meas = sum_evap_meas * dict_param[\"tot_area\"] / dict_param[\"tot_meas_area\"]\n",
      "C:\\Users\\rooze_dn\\Documents\\UWBM-input\\REACHOUT\\Model run\\uwbm_functions.py:1100: RuntimeWarning: invalid value encountered in scalar divide\n",
      "  ds_meas = sum_ds_meas * dict_param[\"tot_area\"] / dict_param[\"tot_meas_area\"]\n",
      "C:\\Users\\rooze_dn\\AppData\\Local\\anaconda3\\Lib\\site-packages\\numpy\\core\\fromnumeric.py:3464: RuntimeWarning: Mean of empty slice.\n",
      "  return _methods._mean(a, axis=axis, dtype=dtype,\n",
      "C:\\Users\\rooze_dn\\AppData\\Local\\anaconda3\\Lib\\site-packages\\numpy\\core\\_methods.py:192: RuntimeWarning: invalid value encountered in scalar divide\n",
      "  ret = ret.dtype.type(ret / rcount)\n"
     ]
    },
    {
     "name": "stdout",
     "output_type": "stream",
     "text": [
      "\n",
      "\n",
      "Currently running Neighbourhood 3 - Base run\n"
     ]
    },
    {
     "name": "stderr",
     "output_type": "stream",
     "text": [
      "C:\\Users\\rooze_dn\\Documents\\UWBM-input\\REACHOUT\\Model run\\uwbm_functions.py:1099: RuntimeWarning: invalid value encountered in scalar divide\n",
      "  e_meas = sum_evap_meas * dict_param[\"tot_area\"] / dict_param[\"tot_meas_area\"]\n",
      "C:\\Users\\rooze_dn\\Documents\\UWBM-input\\REACHOUT\\Model run\\uwbm_functions.py:1100: RuntimeWarning: invalid value encountered in scalar divide\n",
      "  ds_meas = sum_ds_meas * dict_param[\"tot_area\"] / dict_param[\"tot_meas_area\"]\n"
     ]
    },
    {
     "name": "stdout",
     "output_type": "stream",
     "text": [
      "Currently running Neighbourhood 3 - Urban wetland\n",
      "Elapsed: 13.68s\n"
     ]
    },
    {
     "name": "stderr",
     "output_type": "stream",
     "text": [
      "C:\\Users\\rooze_dn\\AppData\\Local\\anaconda3\\Lib\\site-packages\\numpy\\core\\fromnumeric.py:3464: RuntimeWarning: Mean of empty slice.\n",
      "  return _methods._mean(a, axis=axis, dtype=dtype,\n",
      "C:\\Users\\rooze_dn\\AppData\\Local\\anaconda3\\Lib\\site-packages\\numpy\\core\\_methods.py:192: RuntimeWarning: invalid value encountered in scalar divide\n",
      "  ret = ret.dtype.type(ret / rcount)\n"
     ]
    },
    {
     "name": "stdout",
     "output_type": "stream",
     "text": [
      "1.8 minutes remaining\n",
      "Currently running Neighbourhood 3 - Bioswale\n",
      "Elapsed: 13.98s\n"
     ]
    },
    {
     "name": "stderr",
     "output_type": "stream",
     "text": [
      "C:\\Users\\rooze_dn\\AppData\\Local\\anaconda3\\Lib\\site-packages\\numpy\\core\\fromnumeric.py:3464: RuntimeWarning: Mean of empty slice.\n",
      "  return _methods._mean(a, axis=axis, dtype=dtype,\n",
      "C:\\Users\\rooze_dn\\AppData\\Local\\anaconda3\\Lib\\site-packages\\numpy\\core\\_methods.py:192: RuntimeWarning: invalid value encountered in scalar divide\n",
      "  ret = ret.dtype.type(ret / rcount)\n"
     ]
    },
    {
     "name": "stdout",
     "output_type": "stream",
     "text": [
      "1.5 minutes remaining\n",
      "Currently running Neighbourhood 3 - Deep groundwater infiltration\n",
      "Elapsed: 13.00s\n"
     ]
    },
    {
     "name": "stderr",
     "output_type": "stream",
     "text": [
      "C:\\Users\\rooze_dn\\AppData\\Local\\anaconda3\\Lib\\site-packages\\numpy\\core\\fromnumeric.py:3464: RuntimeWarning: Mean of empty slice.\n",
      "  return _methods._mean(a, axis=axis, dtype=dtype,\n",
      "C:\\Users\\rooze_dn\\AppData\\Local\\anaconda3\\Lib\\site-packages\\numpy\\core\\_methods.py:192: RuntimeWarning: invalid value encountered in scalar divide\n",
      "  ret = ret.dtype.type(ret / rcount)\n"
     ]
    },
    {
     "name": "stdout",
     "output_type": "stream",
     "text": [
      "1.3 minutes remaining\n",
      "Currently running Neighbourhood 3 - Ditches\n",
      "Elapsed: 13.29s\n"
     ]
    },
    {
     "name": "stderr",
     "output_type": "stream",
     "text": [
      "C:\\Users\\rooze_dn\\AppData\\Local\\anaconda3\\Lib\\site-packages\\numpy\\core\\fromnumeric.py:3464: RuntimeWarning: Mean of empty slice.\n",
      "  return _methods._mean(a, axis=axis, dtype=dtype,\n",
      "C:\\Users\\rooze_dn\\AppData\\Local\\anaconda3\\Lib\\site-packages\\numpy\\core\\_methods.py:192: RuntimeWarning: invalid value encountered in scalar divide\n",
      "  ret = ret.dtype.type(ret / rcount)\n"
     ]
    },
    {
     "name": "stdout",
     "output_type": "stream",
     "text": [
      "1.0 minutes remaining\n",
      "Currently running Neighbourhood 3 - Intensive green roofs\n",
      "Elapsed: 12.72s\n"
     ]
    },
    {
     "name": "stderr",
     "output_type": "stream",
     "text": [
      "C:\\Users\\rooze_dn\\AppData\\Local\\anaconda3\\Lib\\site-packages\\numpy\\core\\fromnumeric.py:3464: RuntimeWarning: Mean of empty slice.\n",
      "  return _methods._mean(a, axis=axis, dtype=dtype,\n",
      "C:\\Users\\rooze_dn\\AppData\\Local\\anaconda3\\Lib\\site-packages\\numpy\\core\\_methods.py:192: RuntimeWarning: invalid value encountered in scalar divide\n",
      "  ret = ret.dtype.type(ret / rcount)\n"
     ]
    },
    {
     "name": "stdout",
     "output_type": "stream",
     "text": [
      "0.7 minutes remaining\n",
      "Currently running Neighbourhood 3 - Adding trees to streetscape\n"
     ]
    },
    {
     "name": "stderr",
     "output_type": "stream",
     "text": [
      "C:\\Users\\rooze_dn\\Documents\\UWBM-input\\REACHOUT\\Model run\\uwbm_functions.py:1099: RuntimeWarning: invalid value encountered in scalar divide\n",
      "  e_meas = sum_evap_meas * dict_param[\"tot_area\"] / dict_param[\"tot_meas_area\"]\n",
      "C:\\Users\\rooze_dn\\Documents\\UWBM-input\\REACHOUT\\Model run\\uwbm_functions.py:1100: RuntimeWarning: invalid value encountered in scalar divide\n",
      "  ds_meas = sum_ds_meas * dict_param[\"tot_area\"] / dict_param[\"tot_meas_area\"]\n",
      "C:\\Users\\rooze_dn\\AppData\\Local\\anaconda3\\Lib\\site-packages\\numpy\\core\\fromnumeric.py:3464: RuntimeWarning: Mean of empty slice.\n",
      "  return _methods._mean(a, axis=axis, dtype=dtype,\n",
      "C:\\Users\\rooze_dn\\AppData\\Local\\anaconda3\\Lib\\site-packages\\numpy\\core\\_methods.py:192: RuntimeWarning: invalid value encountered in scalar divide\n",
      "  ret = ret.dtype.type(ret / rcount)\n"
     ]
    }
   ],
   "source": [
    "import pandas as pd\n",
    "import numpy as np\n",
    "import time\n",
    "from uwbm_functions import *\n",
    "from pandas import read_csv\n",
    "import matplotlib.pyplot as plt\n",
    "\n",
    "# =============================================================================\n",
    "# Input\n",
    "\n",
    "# City case\n",
    "city = 'Paramaribo'\n",
    "# Rainfall & evaporation timeseries\n",
    "input_csv = 'input_9yr_hourly_draft_incl_evap_daily_data.csv'\n",
    "# .csv with the parameters for the measures (this file needs to be called exactly: Parameters measures.csv)\n",
    "measures = pd.read_csv('../input/Parameters measures.csv', index_col=0)\n",
    "# .xlsx with the parameters for the measures which are implemented by adjusting the catchment properties\n",
    "measures_exception = pd.read_excel('../input/Parameters measures exception_quicktest.xlsx', sheet_name=None)\n",
    "# .csv with the parameters for the neighbourhood types (this file needs to be called exactly: Parameters neighbourhoods.csv)\n",
    "# (= possibilty to add different neighbourhoods, unlimited nr)\n",
    "neighbourhood_pars = pd.read_csv('../input/Parameters neighbourhoods.csv')\n",
    "# =============================================================================\n",
    "\n",
    "# Create a list will all measures: '.csv measures' and the exceptions\n",
    "total_measures = list(measures.index)\n",
    "total_measures_titles = list(measures['title'])\n",
    "for i in measures_exception:\n",
    "    total_measures.append(measures_exception[i]['id'][0])\n",
    "    total_measures_titles.append(measures_exception[i]['title'][0])\n",
    "\n",
    "# Create DataFrames to store the results in\n",
    "df = pd.DataFrame(columns=['id', 'Measure', '0', '5', '10', '20', '30', '40', '50', '100'])\n",
    "df['id'] = total_measures\n",
    "df['Measure'] = total_measures_titles\n",
    "df['0'] = np.zeros(len(df.index))\n",
    "\n",
    "df_runoff = df.copy()\n",
    "df_Ftot = df.copy()\n",
    "df_gw = df.copy()\n",
    "df_evap = df.copy()\n",
    "df_gw.insert(2, 'Baseline', np.zeros(len(df_gw.index)))\n",
    "df_evap.insert(2, 'Baseline', np.zeros(len(df_evap.index)))\n",
    "\n",
    "\n",
    "\n",
    "# Add measures that only have zeros (no hydrological effect)    \n",
    "measures_zeros = {\n",
    "'id': [7,8,13,14,57,61,62,80,81,83,84,86,87,88,89,35],\n",
    "'Measure': ['Fonteinen, watervallen en watermuren', 'Cooling with water elements: ponds',\n",
    "            'Floating  puri-plants (floatlands)', 'Groene gevels', 'Slim beregeningsbeleid/smart irrigation',\n",
    "            'Wetting surfaces (of gardens, roofs, roads)', 'Koele materialen (hoge albedo)', 'Creeren van schaduw',\n",
    "            'Dijken', 'Kades (lage dijkjes)', 'Droogtebestendige planten en bomen', 'Superdijk (komt te vervallen)',\n",
    "            'Kademuur', 'Gebouw als waterkering', 'Tijdelijke kering', 'Surface drains']}\n",
    "df_measures_zeros = pd.DataFrame(data=measures_zeros)\n",
    "\n",
    "df_runoff = pd.concat([df_runoff, df_measures_zeros])\n",
    "df_runoff = df_runoff.fillna(0)\n",
    "df_Ftot = pd.concat([df_Ftot, df_measures_zeros])\n",
    "df_Ftot = df_Ftot.fillna(0)\n",
    "df_gw = pd.concat([df_gw, df_measures_zeros])\n",
    "df_gw = df_gw.fillna(0)\n",
    "df_evap = pd.concat([df_evap, df_measures_zeros])\n",
    "df_evap = df_evap.fillna(0)\n",
    "\n",
    "\n",
    "\n",
    "\n",
    "# The following notes the time, which is used to calculate the remaining runtime of the script\n",
    "time_counter = 0\n",
    "max_time_counter = len(neighbourhood_pars) * len(total_measures)\n",
    "start_time = time.time()\n",
    "\n",
    "\n",
    "\n",
    "print('Total number of neighborhoods to run: ', len(neighbourhood_pars))\n",
    "\n",
    "# Loop for each neighbourhood type in the 'Parameters neighbourhoods' file\n",
    "for n in range(len(neighbourhood_pars)):\n",
    "    \n",
    "    title_name = neighbourhood_pars['title'][n]\n",
    "    \n",
    "    # Catchment properties .ini file for the initial parameters\n",
    "    catchment_properties = f'ep_neighbourhood_{city}_{title_name}.ini'\n",
    "    # Output file name (.xlsx (defined at bottom) gets added to it in the script, so this should be left out here)\n",
    "    output_name = f'measures_output_{city}_{title_name}'\n",
    "    \n",
    "    \n",
    "    print('\\n')\n",
    "    neighbourhood_id = neighbourhood_pars['id_type'][n]\n",
    "    \n",
    "    # Base run: run the model without any measure implemented yet. This is needed to do a comparison between base and measure run.\n",
    "    print('Currently running Neighbourhood ' + str(n+1) + ' - Base run')\n",
    "    inputdata = read_inputdata(input_csv)\n",
    "    dict_param = read_parameters_csv(catchment_properties, str(measures.index[0]), neighbourhood_id, apply_measure=False)\n",
    "    if dict_param ['tot_up_area'] == 0 and np.any(measures['up_meas_area'] == 1):\n",
    "        print ('error: measure' +str(measures[measures['up_meas_area'] == 1].title.values) + 'cannot be applied in zero sized unpaved area!')\n",
    "        break\n",
    "    if dict_param ['tot_cp_area'] == 0 and np.any(measures['cp_meas_area'] == 1):\n",
    "        print ('error: measure ' +str(measures[measures['cp_meas_area'] == 1].title.values) + 'cannot be applied in zero sized closed paved area!')\n",
    "        break\n",
    "    if dict_param ['tot_op_area'] == 0 and np.any(measures['op_meas_area'] == 1):\n",
    "        print ('error: measure' + str(measures[measures['op_meas_area'] == 1].title.values) + 'cannot be applied in zero sized open paved area!')\n",
    "        break\n",
    "    if dict_param ['tot_pr_area'] == 0 and np.any(measures['pr_meas_area'] == 1):\n",
    "        print ('error: measure ' + str(measures[measures['pr_meas_area'] == 1].title.values) + 'cannot be applied in zero sized paved roof area!')\n",
    "        break\n",
    "    base_run = running(inputdata, dict_param)\n",
    "    \n",
    "    # Calculate amount of paved- and unpaved area, required for the Ftot calculation\n",
    "    Ap = dict_param['tot_pr_area'] + dict_param['tot_cp_area'] + dict_param['tot_op_area']\n",
    "    Aup = dict_param['tot_up_area']\n",
    "    \n",
    "    # Fraction of runoff from unpaved compared to paved, required for the Ftot calculation.\n",
    "    # This needs adjustments as the runoff sum difference may not be a good indication for the difference in peak runoff\n",
    "    sum_Rp = base_run[0]['r_cp_meas'].sum() + base_run[0]['r_cp_swds'].sum() + base_run[0]['r_cp_mss'].sum() + base_run[0]['r_cp_up'].sum()\n",
    "    sum_Rup = base_run[0]['r_up_ow'].sum() + base_run[0]['r_up_meas'].sum()\n",
    "    frac_Rup_Rp = sum_Rup / sum_Rp\n",
    "    \n",
    "    # Loop for each measure in the 'Parameters measures' file\n",
    "    for i in measures.index:\n",
    "        measure_id = str(i)\n",
    "    \n",
    "        # Calculate depth measure based on the inflow factor and the effective depth. Currently, the default values for inflow factor are used.\n",
    "        D_eff = [5, 10, 20, 30, 40, 50, 100]\n",
    "        inflow_factor = measures['Ain_def'][i]\n",
    "        D_meas = [x * inflow_factor for x in D_eff]\n",
    "        \n",
    "        # Measures with an base storage, such as wet ponds, should have the extra depth added to this base storage.\n",
    "        if measures['stor_btm_meas_t0'][i] > 0:\n",
    "            D_meas = [x * inflow_factor + measures['stor_btm_meas_t0'][i] for x in D_eff]\n",
    "        \n",
    "        # Determine the storage capacity parameter which needs to be changed depending on the amount of storage layers in the measure.\n",
    "        # Green roofs (extensive) consists of three layers, however, are an exception where the top layer storage needs to be adjusted instead of the bottom layer storage.\n",
    "        if int(measures['num_stor_lvl'][i]) == 1:\n",
    "            varkey = 'storcap_int_meas'\n",
    "        elif measure_id in ['15', '16']:\n",
    "            varkey = 'storcap_top_meas'\n",
    "        elif int(measures['num_stor_lvl'][i]) > 1:\n",
    "            varkey = 'storcap_btm_meas'\n",
    "    \n",
    "        # Determine the runoff variable which acts as a baseline. This is based on the source of the inflow for the measure: pr, cp, op, up, ow.\n",
    "        if measures['pr_meas_inflow_area'][i] > 0:\n",
    "            baseline_variable = 'r_pr_swds'\n",
    "            Ami = dict_param['tot_pr_area']\n",
    "        elif measures['cp_meas_inflow_area'][i] > 0:\n",
    "            baseline_variable = 'r_cp_swds'\n",
    "            Ami = dict_param['tot_cp_area']\n",
    "        elif measures['op_meas_inflow_area'][i] > 0:\n",
    "            baseline_variable = 'r_op_swds'\n",
    "            Ami = dict_param['tot_op_area']\n",
    "        elif measures['up_meas_inflow_area'][i] > 0:\n",
    "            baseline_variable = 'r_up_ow'\n",
    "            Ami = dict_param['tot_up_area']\n",
    "        elif measures['ow_meas_inflow_area'][i] > 0:\n",
    "            baseline_variable = 'r_ow_swds'\n",
    "            Ami = dict_param['tot_ow_area']\n",
    "        \n",
    "        # Determine variable_to_save for runoff based on the area where the uncontrolled runoff is discharged to\n",
    "        if measures['surf_runoff_meas_OW'][i] == 1:\n",
    "            variable_to_save = 'q_meas_ow'\n",
    "        elif measures['surf_runoff_meas_UZ'][i] == 1:\n",
    "            variable_to_save = 'q_meas_uz'\n",
    "        elif measures['surf_runoff_meas_GW'][i] == 1:\n",
    "            variable_to_save = 'q_meas_gw'\n",
    "        elif measures['surf_runoff_meas_SWDS'][i] == 1:\n",
    "            variable_to_save = 'q_meas_swds'\n",
    "        elif measures['surf_runoff_meas_MSS'][i] == 1:\n",
    "            variable_to_save = 'q_meas_mss'\n",
    "        elif measures['surf_runoff_meas_Out'][i] == 1:\n",
    "            variable_to_save = 'q_meas_out'\n",
    "        \n",
    "        # Runoffcap_stor_dependent checks whether the runoff capacity of the measure depends on the storage capacity, e.g. in an underground storage or rain barrel\n",
    "        if measures.loc[i]['runoffcap_stor_dependent'] == 1:\n",
    "            runoffcap_factor = measures.loc[i]['runoffcap_stor_factor']\n",
    "            runoffcap_meas = [x * runoffcap_factor for x in D_meas]\n",
    "            runoff, gw, evap = run_measures(input_csv, catchment_properties, measure_id, neighbourhood_id, output_name, base_run, varkey = varkey, vararrlist1 = D_meas, correspvarkey='runoffcap_btm_meas', vararrlist2=runoffcap_meas, baseline_variable=baseline_variable, variable_to_save=variable_to_save)\n",
    "        else:\n",
    "            runoff, gw, evap = run_measures(input_csv, catchment_properties, measure_id, neighbourhood_id, output_name, base_run, varkey = varkey, vararrlist1 = D_meas, correspvarkey=None, vararrlist2=None, baseline_variable=baseline_variable, variable_to_save=variable_to_save)\n",
    "        \n",
    "        num_years = (pd.to_datetime(runoff.Date[len(runoff.Date)-1]) - pd.to_datetime(runoff.Date[0])).days / 365\n",
    "        num_years = round(num_years)\n",
    "        \n",
    "        # 'getconstants_measures' calculates the runoff reduction factors for the measures at each effective depth   \n",
    "        constants_runoff, mean_constants_runoff = getconstants_measures(runoff, num_year=num_years)\n",
    "        gw = round(gw / num_years, 2)\n",
    "        evap = round(evap / num_years, 2)\n",
    "        \n",
    "        idx_measure = np.where(df_runoff.id==i)[0][0]\n",
    "        df_runoff.loc[idx_measure, ['5', '10', '20', '30', '40', '50', '100']] = mean_constants_runoff\n",
    "        df_gw.loc[idx_measure, ['Baseline', '5', '10', '20', '30', '40', '50', '100']] = gw.values[0]\n",
    "        df_gw.loc[idx_measure, ['5', '10', '20', '30', '40', '50', '100']] -= gw['Baseline'].values[0]\n",
    "        df_evap.loc[idx_measure, ['Baseline', '5', '10', '20', '30', '40', '50', '100']] = evap.values[0]\n",
    "        df_evap.loc[idx_measure, ['5', '10', '20', '30', '40', '50', '100']] -= evap['Baseline'].values[0]\n",
    "        \n",
    "        # =============================================================================\n",
    "        #     Calculate Ftot: Runoff reduction factor over the total area\n",
    "        # =============================================================================\n",
    "        \n",
    "        # Calculate the Ftot according to the inflow area of the measure, assuming no measures are taken on unpaved or open water\n",
    "        Fmeas = mean_constants_runoff\n",
    "        df_Ftot.loc[idx_measure, ['5', '10', '20', '30', '40', '50', '100']] = np.round( ( Ap * np.exp(Ami*np.log(Fmeas)/Ap) + frac_Rup_Rp * Aup ) / ( Ap + frac_Rup_Rp * Aup ), 2)\n",
    "        \n",
    "        # Calculate the remaining runtime of the script\n",
    "        end_time = time.time()\n",
    "        runtime = end_time - start_time\n",
    "        time_counter += 1\n",
    "        fraction = time_counter / max_time_counter\n",
    "        timeleft = round(((1/fraction) - 1) * runtime / 60,1)\n",
    "        print(str(timeleft) + ' minutes remaining')\n",
    "    \n",
    "    # Loop for the exception measures, which are implemented by altering the catchment itself, rather than implemented as a separate measure.\n",
    "    for title in measures_exception:\n",
    "        measure_title = title\n",
    "        \n",
    "        baseline_variable = measures_exception[measure_title]['baseline_variable'][0]\n",
    "        variable_to_save = measures_exception[measure_title]['variable_to_save'][0]\n",
    "        \n",
    "        runoff, gw, evap = run_measures_exception(input_csv, catchment_properties, measure_title, neighbourhood_id, base_run, baseline_variable, variable_to_save)\n",
    "        \n",
    "        num_years = (pd.to_datetime(runoff.Date[len(runoff.Date)-1]) - pd.to_datetime(runoff.Date[0])).days / 365\n",
    "        num_years = round(num_years)\n",
    "        \n",
    "        constants_runoff, mean_constants_runoff = getconstants_measures(runoff, num_year=num_years)\n",
    "        gw = round(gw / num_years, 2)\n",
    "        evap = round(evap / num_years, 2)\n",
    "        \n",
    "        idx_measure = np.where(df_runoff.id == measures_exception[measure_title]['id'][0])[0][0]\n",
    "        df_runoff.loc[idx_measure, ['5', '10', '20', '30', '40', '50', '100']] = mean_constants_runoff[0]\n",
    "        \n",
    "        df_gw.loc[idx_measure, 'Baseline'] = gw['Baseline'].values[0]\n",
    "        df_gw.loc[idx_measure, ['5', '10', '20', '30', '40', '50', '100']] = gw['alt'].values[0]\n",
    "        \n",
    "        df_evap.loc[idx_measure, 'Baseline'] = evap['Baseline'].values[0]\n",
    "        df_evap.loc[idx_measure, ['5', '10', '20', '30', '40', '50', '100']] = evap['alt'].values[0]        \n",
    "        \n",
    "        # Calculate Ftot\n",
    "        Fmeas = mean_constants_runoff[0]\n",
    "        Inflow_area = measures_exception[measure_title]['inflow_area'][0]\n",
    "        Ami = dict_param[f'tot_{Inflow_area}_area']\n",
    "        df_Ftot.loc[idx_measure, ['5', '10', '20', '30', '40', '50', '100']] = np.round( ( Ap * np.exp(Ami*np.log(Fmeas)/Ap) + frac_Rup_Rp * Aup ) / ( Ap + frac_Rup_Rp * Aup ), 2)\n",
    "\n",
    "        \n",
    "    # Add '1000' mm effective depth column\n",
    "    df_runoff['1000'] = df_runoff['100']\n",
    "    df_Ftot['1000'] = df_Ftot['100']\n",
    "    df_gw['1000'] = df_gw['100']\n",
    "    df_evap['1000'] = df_evap['100']\n",
    "    \n",
    "    \n",
    "    \n",
    "    # changing baseline columns for selected measures\n",
    "    df_change_list = [df_gw, df_evap]\n",
    "    for df_i in df_change_list:\n",
    "        df_i['5'] = np.where(df_i['id'].isin([3,19,25,26,32,39,51,91,94]), df_i['5'] - df_i['Baseline'], df_i['5'])\n",
    "        df_i['10'] = np.where(df_i['id'].isin([3,19,25,26,32,39,51,91,94]), df_i['10'] - df_i['Baseline'], df_i['10'])\n",
    "        df_i['20'] = np.where(df_i['id'].isin([3,19,25,26,32,39,51,91,94]), df_i['20'] - df_i['Baseline'], df_i['20'])\n",
    "        df_i['30'] = np.where(df_i['id'].isin([3,19,25,26,32,39,51,91,94]), df_i['30'] - df_i['Baseline'], df_i['30'])\n",
    "        df_i['40'] = np.where(df_i['id'].isin([3,19,25,26,32,39,51,91,94]), df_i['40'] - df_i['Baseline'], df_i['40'])\n",
    "        df_i['50'] = np.where(df_i['id'].isin([3,19,25,26,32,39,51,91,94]), df_i['50'] - df_i['Baseline'], df_i['50'])\n",
    "        df_i['100'] = np.where(df_i['id'].isin([3,19,25,26,32,39,51,91,94]), df_i['100'] - df_i['Baseline'], df_i['100'])\n",
    "        df_i['1000'] = np.where(df_i['id'].isin([3,19,25,26,32,39,51,91,94]), df_i['1000'] - df_i['Baseline'], df_i['1000'])\n",
    "\n",
    "    \n",
    "    # Sort the values on measure id\n",
    "    df_runoff = df_runoff.sort_values(by='id').reset_index(drop=True)\n",
    "    df_Ftot   = df_Ftot.sort_values(by='id').reset_index(drop=True)\n",
    "    df_gw     = df_gw.sort_values(by='id').reset_index(drop=True)\n",
    "    df_evap   = df_evap.sort_values(by='id').reset_index(drop=True)    \n",
    "    \n",
    "    \n",
    "    neighbourhood_name = neighbourhood_pars['title'][n]\n",
    "    output_file = output_name + ' - %s.xlsx' % neighbourhood_name\n",
    "    \n",
    "    # Save the results in a .xsls (Excel workbook) file\n",
    "    with pd.ExcelWriter('pysol/' + output_file) as writer:\n",
    "        df_runoff.to_excel(writer, sheet_name='Runoff factor', index=0)\n",
    "        df_Ftot.to_excel(writer, sheet_name='Ftot', index=0)\n",
    "        df_gw.to_excel(writer, sheet_name='Groundwater recharge', index=0)\n",
    "        df_evap.to_excel(writer, sheet_name='Evaporation', index=0)\n",
    "    \n",
    "    \n",
    "    # Save the results to json file\n",
    "    #without baseline:\n",
    "    df_lib_1 = {'ast_measures_pluvflood': df_runoff, 'ast_measures_Ftot': df_Ftot}\n",
    "    #with baseline:\n",
    "    df_lib_2 = {'ast_measures_groundwater_recharge': df_gw, 'ast_measures_evapotranspiration': df_evap}\n",
    "\n",
    "\n",
    "    for df_i in df_lib_1:\n",
    "        json_df = df_lib_1[df_i].rename(columns={\"id\": \"ID\", \"Measure\": \"name\", \"0\": \"Col0\", \n",
    "                                        \"5\": \"Col1\", \"10\": \"Col2\", \"20\": \"Col3\",\n",
    "                                        \"30\": \"Col4\", \"40\": \"Col5\", \"50\": \"Col6\",\n",
    "                                        \"100\": \"Col7\", \"1000\": \"Col8\"}, errors='ignore')\n",
    "        json_df = json_df.drop(columns=['Baseline'], errors='ignore')\n",
    "        json_df.to_json('pysol/' + f'{df_i}' + f'_{title_name}.json', orient='records', indent=4)\n",
    "\n",
    "\n",
    "\n",
    "\n",
    "    for df_i in df_lib_2:\n",
    "        json_df = df_lib_2[df_i].rename(columns={\"id\": \"ID\", \"Measure\": \"name\", \"Baseline\": \"Col0\", \"0\": \"Col1\", \n",
    "                                        \"5\": \"Col2\", \"10\": \"Col3\", \"20\": \"Col4\",\n",
    "                                        \"30\": \"Col5\", \"40\": \"Col6\", \"50\": \"Col7\",\n",
    "                                        \"100\": \"Col8\", \"1000\": \"Col9\"}, errors='ignore')\n",
    "        json_df.to_json('pysol/' + f'{df_i}' + f'_{title_name}.json', orient='records', indent=4)"
   ]
  },
  {
   "cell_type": "code",
   "execution_count": 19,
   "metadata": {
    "scrolled": true
   },
   "outputs": [
    {
     "data": {
      "text/plain": [
       "<AxesSubplot:>"
      ]
     },
     "execution_count": 19,
     "metadata": {},
     "output_type": "execute_result"
    },
    {
     "data": {
      "image/png": "[encoded data removed]",
      "text/plain": [
       "<Figure size 432x288 with 1 Axes>"
      ]
     },
     "metadata": {
      "needs_background": "light"
     },
     "output_type": "display_data"
    }
   ],
   "source": [
    "base_run[0]['gwl'].plot()"
   ]
  },
  {
   "cell_type": "code",
   "execution_count": 8,
   "metadata": {},
   "outputs": [
    {
     "data": {
      "text/html": [
       "<div>\n",
       "<style scoped>\n",
       "    .dataframe tbody tr th:only-of-type {\n",
       "        vertical-align: middle;\n",
       "    }\n",
       "\n",
       "    .dataframe tbody tr th {\n",
       "        vertical-align: top;\n",
       "    }\n",
       "\n",
       "    .dataframe thead th {\n",
       "        text-align: right;\n",
       "    }\n",
       "</style>\n",
       "<table border=\"1\" class=\"dataframe\">\n",
       "  <thead>\n",
       "    <tr style=\"text-align: right;\">\n",
       "      <th></th>\n",
       "      <th>id</th>\n",
       "      <th>Measure</th>\n",
       "    </tr>\n",
       "  </thead>\n",
       "  <tbody>\n",
       "    <tr>\n",
       "      <th>0</th>\n",
       "      <td>7</td>\n",
       "      <td>Fonteinen, watervallen en watermuren</td>\n",
       "    </tr>\n",
       "    <tr>\n",
       "      <th>1</th>\n",
       "      <td>8</td>\n",
       "      <td>Cooling with water elements: ponds</td>\n",
       "    </tr>\n",
       "    <tr>\n",
       "      <th>2</th>\n",
       "      <td>13</td>\n",
       "      <td>Floating  puri-plants (floatlands)</td>\n",
       "    </tr>\n",
       "    <tr>\n",
       "      <th>3</th>\n",
       "      <td>14</td>\n",
       "      <td>Groene gevels</td>\n",
       "    </tr>\n",
       "    <tr>\n",
       "      <th>4</th>\n",
       "      <td>57</td>\n",
       "      <td>Slim beregeningsbeleid/smart irrigation</td>\n",
       "    </tr>\n",
       "    <tr>\n",
       "      <th>5</th>\n",
       "      <td>61</td>\n",
       "      <td>Wetting surfaces (of gardens, roofs, roads)</td>\n",
       "    </tr>\n",
       "    <tr>\n",
       "      <th>6</th>\n",
       "      <td>62</td>\n",
       "      <td>Koele materialen (hoge albedo)</td>\n",
       "    </tr>\n",
       "    <tr>\n",
       "      <th>7</th>\n",
       "      <td>80</td>\n",
       "      <td>Creeren van schaduw</td>\n",
       "    </tr>\n",
       "    <tr>\n",
       "      <th>8</th>\n",
       "      <td>81</td>\n",
       "      <td>Dijken</td>\n",
       "    </tr>\n",
       "    <tr>\n",
       "      <th>9</th>\n",
       "      <td>83</td>\n",
       "      <td>Kades (lage dijkjes)</td>\n",
       "    </tr>\n",
       "    <tr>\n",
       "      <th>10</th>\n",
       "      <td>84</td>\n",
       "      <td>Droogtebestendige planten en bomen</td>\n",
       "    </tr>\n",
       "    <tr>\n",
       "      <th>11</th>\n",
       "      <td>86</td>\n",
       "      <td>Superdijk (komt te vervallen)</td>\n",
       "    </tr>\n",
       "    <tr>\n",
       "      <th>12</th>\n",
       "      <td>87</td>\n",
       "      <td>Kademuur</td>\n",
       "    </tr>\n",
       "    <tr>\n",
       "      <th>13</th>\n",
       "      <td>88</td>\n",
       "      <td>Gebouw als waterkering</td>\n",
       "    </tr>\n",
       "    <tr>\n",
       "      <th>14</th>\n",
       "      <td>89</td>\n",
       "      <td>Tijdelijke kering</td>\n",
       "    </tr>\n",
       "    <tr>\n",
       "      <th>15</th>\n",
       "      <td>35</td>\n",
       "      <td>Surface drains</td>\n",
       "    </tr>\n",
       "  </tbody>\n",
       "</table>\n",
       "</div>"
      ],
      "text/plain": [
       "    id                                      Measure\n",
       "0    7         Fonteinen, watervallen en watermuren\n",
       "1    8           Cooling with water elements: ponds\n",
       "2   13           Floating  puri-plants (floatlands)\n",
       "3   14                                Groene gevels\n",
       "4   57      Slim beregeningsbeleid/smart irrigation\n",
       "5   61  Wetting surfaces (of gardens, roofs, roads)\n",
       "6   62               Koele materialen (hoge albedo)\n",
       "7   80                          Creeren van schaduw\n",
       "8   81                                       Dijken\n",
       "9   83                         Kades (lage dijkjes)\n",
       "10  84           Droogtebestendige planten en bomen\n",
       "11  86                Superdijk (komt te vervallen)\n",
       "12  87                                     Kademuur\n",
       "13  88                       Gebouw als waterkering\n",
       "14  89                            Tijdelijke kering\n",
       "15  35                               Surface drains"
      ]
     },
     "execution_count": 8,
     "metadata": {},
     "output_type": "execute_result"
    }
   ],
   "source": [
    "df_measures_zeros"
   ]
  },
  {
   "cell_type": "code",
   "execution_count": null,
   "metadata": {},
   "outputs": [],
   "source": []
  }
 ],
 "metadata": {
  "kernelspec": {
   "display_name": "Python 3 (ipykernel)",
   "language": "python",
   "name": "python3"
  },
  "language_info": {
   "codemirror_mode": {
    "name": "ipython",
    "version": 3
   },
   "file_extension": ".py",
   "mimetype": "text/x-python",
   "name": "python",
   "nbconvert_exporter": "python",
   "pygments_lexer": "ipython3",
   "version": "3.9.16"
  },
  "latex_envs": {
   "LaTeX_envs_menu_present": true,
   "autoclose": false,
   "autocomplete": true,
   "bibliofile": "biblio.bib",
   "cite_by": "apalike",
   "current_citInitial": 1,
   "eqLabelWithNumbers": true,
   "eqNumInitial": 1,
   "hotkeys": {
    "equation": "Ctrl-E",
    "itemize": "Ctrl-I"
   },
   "labels_anchors": false,
   "latex_user_defs": false,
   "report_style_numbering": false,
   "user_envs_cfg": false
  }
 },
 "nbformat": 4,
 "nbformat_minor": 2
}
